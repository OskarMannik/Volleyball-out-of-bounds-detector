{
 "cells": [
  {
   "cell_type": "code",
   "execution_count": null,
   "metadata": {},
   "outputs": [],
   "source": [
    "!pip install roboflow\n",
    "!pip install ultralytics\n",
    "\n",
    "from roboflow import Roboflow\n",
    "rf = Roboflow(api_key=\"snjPVQNpIqGUwQNA0Z4e\")\n",
    "project = rf.workspace(\"shukur-sabzaliev1\").project(\"volleyball_v2\")\n",
    "version = project.version(2)\n",
    "dataset = version.download(\"yolov5\")"
   ]
  },
  {
   "cell_type": "code",
   "execution_count": null,
   "metadata": {},
   "outputs": [],
   "source": [
    "import shutil"
   ]
  },
  {
   "cell_type": "code",
   "execution_count": null,
   "metadata": {},
   "outputs": [],
   "source": [
    "shutil.move(\"/content/Volleyball_v2-2/train\", \"Volleyball_v2-2/Volleyball_v2-2/train\",)\n",
    "shutil.move(\"/content/Volleyball_v2-2/test\", \"Volleyball_v2-2/Volleyball_v2-2/test\")\n",
    "shutil.move(\"/content/Volleyball_v2-2/valid\", \"Volleyball_v2-2/Volleyball_v2-2/valid\")"
   ]
  },
  {
   "cell_type": "code",
   "execution_count": null,
   "metadata": {},
   "outputs": [],
   "source": [
    "!yolo task=detect mode=train model=yolov5l6u.pt data={dataset.location}/data.yaml epochs=50 imgsz=256"
   ]
  },
  {
   "cell_type": "code",
   "execution_count": null,
   "metadata": {},
   "outputs": [],
   "source": [
    "import shutil"
   ]
  },
  {
   "cell_type": "code",
   "execution_count": null,
   "metadata": {},
   "outputs": [],
   "source": [
    "shutil.move(\"Volleyball_v2-2/train\", \"Volleyball_v2-2/Volleyball_v2-2/train\",)\n",
    "shutil.move(\"Volleyball_v2-2/test\", \"Volleyball_v2-2/Volleyball_v2-2/test\")\n",
    "shutil.move(\"Volleyball_v2-2/valid\", \"Volleyball_v2-2/Volleyball_v2-2/valid\")"
   ]
  },
  {
   "cell_type": "code",
   "execution_count": null,
   "metadata": {},
   "outputs": [],
   "source": [
    "!~/roboflow_env/bin/yolo task=detect mode=train model=yolov5l6u.pt data={dataset.location}/data.yaml epochs=50 imgsz=512\n"
   ]
  }
 ],
 "metadata": {
  "language_info": {
   "name": "python"
  }
 },
 "nbformat": 4,
 "nbformat_minor": 2
}
