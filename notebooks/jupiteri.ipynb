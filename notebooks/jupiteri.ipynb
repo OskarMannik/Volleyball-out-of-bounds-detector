{
 "cells": [
  {
   "cell_type": "code",
   "execution_count": null,
   "metadata": {},
   "outputs": [],
   "source": [
    "# Step 1: Create a Virtual Environment\n",
    "!python -m venv ~/roboflow_env"
   ]
  },
  {
   "cell_type": "code",
   "execution_count": null,
   "metadata": {},
   "outputs": [],
   "source": [
    "# Step 2: Install roboflow\n",
    "!~/roboflow_env/bin/pip install roboflow"
   ]
  },
  {
   "cell_type": "code",
   "execution_count": null,
   "metadata": {},
   "outputs": [],
   "source": [
    "# Step 3: Install IPython kernel\n",
    "!~/roboflow_env/bin/pip install ipykernel\n",
    "!~/roboflow_env/bin/python -m ipykernel install --user --name=roboflow_env --display-name \"Python (roboflow_env)\""
   ]
  },
  {
   "cell_type": "code",
   "execution_count": null,
   "metadata": {},
   "outputs": [],
   "source": [
    "# Restart Jupyter notebook server manually and select the new kernel \"Python (roboflow_env)\""
   ]
  },
  {
   "cell_type": "code",
   "execution_count": null,
   "metadata": {},
   "outputs": [],
   "source": [
    "# Step 6: Verify the Kernel\n",
    "import sys\n",
    "print(sys.executable)\n",
    "print(sys.path)"
   ]
  },
  {
   "cell_type": "code",
   "execution_count": null,
   "metadata": {},
   "outputs": [],
   "source": [
    "!~/roboflow_env/bin/pip show roboflow\n"
   ]
  },
  {
   "cell_type": "code",
   "execution_count": null,
   "metadata": {},
   "outputs": [],
   "source": [
    "!~/roboflow_env/bin/pip install roboflow\n"
   ]
  },
  {
   "cell_type": "code",
   "execution_count": null,
   "metadata": {},
   "outputs": [],
   "source": [
    "from roboflow import Roboflow\n",
    "rf = Roboflow(api_key=\"snjPVQNpIqGUwQNA0Z4e\")\n",
    "project = rf.workspace(\"shukur-sabzaliev1\").project(\"volleyball_v2\")\n",
    "version = project.version(2)\n",
    "dataset = version.download(\"yolov5\")"
   ]
  },
  {
   "cell_type": "code",
   "execution_count": null,
   "metadata": {},
   "outputs": [],
   "source": [
    "!~/roboflow_env/bin/pip install ultralytics\n"
   ]
  },
  {
   "cell_type": "code",
   "execution_count": null,
   "metadata": {},
   "outputs": [],
   "source": [
    "# Step 2: Verify ultralytics installation\n",
    "!~/roboflow_env/bin/pip show ultralytics"
   ]
  },
  {
   "cell_type": "code",
   "execution_count": null,
   "metadata": {},
   "outputs": [],
   "source": [
    "import shutil"
   ]
  },
  {
   "cell_type": "code",
   "execution_count": null,
   "metadata": {},
   "outputs": [],
   "source": [
    "shutil.move(\"Volleyball_v2-2/train\", \"Volleyball_v2-2/Volleyball_v2-2/train\",)\n",
    "shutil.move(\"Volleyball_v2-2/test\", \"Volleyball_v2-2/Volleyball_v2-2/test\")\n",
    "shutil.move(\"Volleyball_v2-2/valid\", \"Volleyball_v2-2/Volleyball_v2-2/valid\")"
   ]
  },
  {
   "cell_type": "code",
   "execution_count": null,
   "metadata": {},
   "outputs": [],
   "source": [
    "!~/roboflow_env/bin/yolo task=detect mode=train model=yolov5l6u.pt data={dataset.location}/data.yaml epochs=50 imgsz=512\n"
   ]
  }
 ],
 "metadata": {
  "language_info": {
   "name": "python"
  }
 },
 "nbformat": 4,
 "nbformat_minor": 2
}
